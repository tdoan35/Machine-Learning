{
 "cells": [
  {
   "cell_type": "markdown",
   "metadata": {},
   "source": [
    "# Machine Learning - Coursera\n",
    "----\n",
    "\n",
    "## Introduction\n",
    "\n",
    "### What is Machine Learning?\n",
    "- Arthur Samuel (1959). Machine Learning: Field of study that gives computers the ability to learn without being explicitly programmed.\n",
    "- Tom Mitchell (1998) Well-posed Learning Problem: A computer program is said to <i>learn</i> from experience E with respect to some task T and some performance measure P, if its performance on T, as measured by P, improves with experience E.\n",
    "\n",
    "Suppose your email program watches which emails you do or do not mark as spam, and based on that learns how to better filter spam. What is the task T in this setting.\n",
    "\n",
    "\"Classify emails as spam or not spam\" is the task T\n",
    "\n",
    "Machine learning algorithms:\n",
    "- Supervised learning\n",
    "- Unsupervised learning\n",
    "\n",
    "Others: Reinforcement learning, recommender systems\n",
    "\n",
    "Also talk about: Practical advice for applying learning algorithms\n",
    "\n",
    "----\n",
    "\n",
    "## Supervised Learning\n",
    "\n",
    "- \"right answers\" given\n",
    "\n",
    "<u>Regression</u>: Predict continuous valued output (price)\n",
    "\n",
    "<u>Classification</u>: Discrete valued output (0 or 1)\n",
    "\n",
    "Suppose you're running a company, and you want to develop learning algorithms to address each of two problems.\n",
    "\n",
    "Problem 1: You have a large inventory of identical items. You want to predict how many of these items will sell over the next 3 months.\n",
    "\n",
    "Problem 2: You'd like to software to examine individual customer accounts, and for each account decide if it has been hacked/compromised.\n",
    "\n",
    "Should you treat these as classification or as regression problems?\n",
    "\n",
    "\"Treat problem 1 as a regression problem, problem 2 as a classification problem.\"\n",
    "\n",
    "In supervised learning, we are given a data set and already know what our correct output should look like, having the idea that there is a relationship between the input and the output.\n",
    "\n",
    "Supervised learning problems are catagorized into \"regression\" and \"classification\" problems. In a regression problem, we are trying to predict results within a continuous output, meaning that we are trying to map input variables to some continuous function. In a classification problem, we are instead trying to predict results in a discrete output. In other words, we are trying to map input variables into discrete categories.\n",
    "\n",
    "<b>Example 1:</b>\n",
    "\n",
    "Given data about the size of houses on the real estate market, try to predict their price. Price as a function of size is a continuous output, so this is a regression problem.\n",
    "\n",
    "We could turn this into a classification problem by instead making our output about whether the house \"sells for more or less than the asking price.\" Here we are classifying the houses based on price into two discrete categories.\n",
    "\n",
    "<b>Example 2:</b>\n",
    "\n",
    "(a) Regression - Given a picture of a person, we have to predict their age on the basis of the given picture\n",
    "\n",
    "(b) Classification - Given a patient with a tumor, we have to predict whether the tumor is malignant or benign."
   ]
  },
  {
   "cell_type": "markdown",
   "metadata": {},
   "source": [
    "----\n",
    "\n",
    "## Unsupervised Learning\n",
    "\n",
    "Clustering Algorithms\n",
    "\n",
    "Cocktail party problem algorithm:\n",
    "[W,s,v] = svd((repmat(sum(x.\\*,1),size(x,1),1).\\*x)\\*x');\n",
    "\n",
    "Unsupervised learning allows us to approach problems with little or no idea what our results should look like. We can derive structure from data where we don't necessarily know the effect of the variables.\n",
    "\n",
    "We can derive this structure by clustering the data based on relationships among the variables in the data.\n",
    "\n",
    "With unsupervised learning there is no feedback based on the prediction results.\n",
    "\n",
    "<b>Example:</b>\n",
    "\n",
    "Clustering: Take a collection of 1,000,000 different genes, and find a way to automatically group these genes into groups that are somehow similar or related by different variables, such as lifespan, location, roles, and so on.\n",
    "\n",
    "Non-clustering: The \"Cocktail Party Algorithm\", allows you to find structure in a chaotic environment. (i.e. identifying individual voices and music from a mesh of sounds at a cocktail party).\n"
   ]
  },
  {
   "cell_type": "code",
   "execution_count": null,
   "metadata": {
    "collapsed": true
   },
   "outputs": [],
   "source": []
  }
 ],
 "metadata": {
  "kernelspec": {
   "display_name": "Python 3",
   "language": "python",
   "name": "python3"
  },
  "language_info": {
   "codemirror_mode": {
    "name": "ipython",
    "version": 3
   },
   "file_extension": ".py",
   "mimetype": "text/x-python",
   "name": "python",
   "nbconvert_exporter": "python",
   "pygments_lexer": "ipython3",
   "version": "3.6.0"
  }
 },
 "nbformat": 4,
 "nbformat_minor": 2
}
