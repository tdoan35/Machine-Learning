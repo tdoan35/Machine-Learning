{
 "cells": [
  {
   "cell_type": "markdown",
   "metadata": {},
   "source": [
    "# Model and Cost Function\n",
    "\n",
    "## Linear Regression with One Variable\n"
   ]
  },
  {
   "cell_type": "markdown",
   "metadata": {},
   "source": [
    "Training set of housing prices\n",
    "\n",
    "Notation:\n",
    "\n",
    "* m = Number of training examples\n",
    "* x's = \"input\" variable/features\n",
    "* y's = \"output\" variable/\"target\" variable\n",
    "* (x,y) = one training example\n",
    "* (x<sup>(i)</sup>, y<sup>(i)</sup>) = i<sup>th</sup> training example NOT exponentiation\n",
    "\n",
    "\n",
    "<img src=\"./images/1.png\" style=\"width: 450px\">"
   ]
  },
  {
   "cell_type": "code",
   "execution_count": null,
   "metadata": {
    "collapsed": true
   },
   "outputs": [],
   "source": []
  }
 ],
 "metadata": {
  "kernelspec": {
   "display_name": "Python 3",
   "language": "python",
   "name": "python3"
  },
  "language_info": {
   "codemirror_mode": {
    "name": "ipython",
    "version": 3
   },
   "file_extension": ".py",
   "mimetype": "text/x-python",
   "name": "python",
   "nbconvert_exporter": "python",
   "pygments_lexer": "ipython3",
   "version": "3.6.0"
  }
 },
 "nbformat": 4,
 "nbformat_minor": 2
}
